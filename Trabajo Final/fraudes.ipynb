{
  "cells": [
    {
      "cell_type": "code",
      "execution_count": null,
      "id": "6e0c3719-026c-42c8-98ad-faccca46e9df",
      "metadata": {
        "id": "6e0c3719-026c-42c8-98ad-faccca46e9df"
      },
      "outputs": [],
      "source": [
        "# importamos las librerias numpy, pandas, matplotlib y seaborn\n",
        "\n",
        "import numpy as np\n",
        "import pandas as pd\n",
        "import matplotlib.pyplot as plt\n",
        "import seaborn as sns\n",
        "\n",
        "%matplotlib inline"
      ]
    },
    {
      "cell_type": "code",
      "execution_count": null,
      "id": "6981f97d-4758-4ebb-acad-256767cddeb7",
      "metadata": {
        "id": "6981f97d-4758-4ebb-acad-256767cddeb7"
      },
      "outputs": [],
      "source": [
        "# Leemos el archivo CSV\n",
        "credit_card_fraud = pd.read_csv('credit_card_fraud.csv')"
      ]
    },
    {
      "cell_type": "code",
      "execution_count": null,
      "id": "6f447f3d-ad38-499f-84aa-b830b902e9a1",
      "metadata": {
        "id": "6f447f3d-ad38-499f-84aa-b830b902e9a1",
        "outputId": "5d2c2713-4b1d-4157-8683-8dadb07897fa"
      },
      "outputs": [
        {
          "data": {
            "text/html": [
              "<div>\n",
              "<style scoped>\n",
              "    .dataframe tbody tr th:only-of-type {\n",
              "        vertical-align: middle;\n",
              "    }\n",
              "\n",
              "    .dataframe tbody tr th {\n",
              "        vertical-align: top;\n",
              "    }\n",
              "\n",
              "    .dataframe thead th {\n",
              "        text-align: right;\n",
              "    }\n",
              "</style>\n",
              "<table border=\"1\" class=\"dataframe\">\n",
              "  <thead>\n",
              "    <tr style=\"text-align: right;\">\n",
              "      <th></th>\n",
              "      <th>Unnamed: 0</th>\n",
              "      <th>trans_date_trans_time</th>\n",
              "      <th>cc_num</th>\n",
              "      <th>merchant</th>\n",
              "      <th>category</th>\n",
              "      <th>amt</th>\n",
              "      <th>first</th>\n",
              "      <th>last</th>\n",
              "      <th>gender</th>\n",
              "      <th>street</th>\n",
              "      <th>...</th>\n",
              "      <th>lat</th>\n",
              "      <th>long</th>\n",
              "      <th>city_pop</th>\n",
              "      <th>job</th>\n",
              "      <th>dob</th>\n",
              "      <th>trans_num</th>\n",
              "      <th>unix_time</th>\n",
              "      <th>merch_lat</th>\n",
              "      <th>merch_long</th>\n",
              "      <th>is_fraud</th>\n",
              "    </tr>\n",
              "  </thead>\n",
              "  <tbody>\n",
              "    <tr>\n",
              "      <th>0</th>\n",
              "      <td>0</td>\n",
              "      <td>21/06/2020 12:14</td>\n",
              "      <td>2.291160e+15</td>\n",
              "      <td>fraud_Kirlin and Sons</td>\n",
              "      <td>personal_care</td>\n",
              "      <td>2.86</td>\n",
              "      <td>Jeff</td>\n",
              "      <td>Elliott</td>\n",
              "      <td>M</td>\n",
              "      <td>351 Darlene Green</td>\n",
              "      <td>...</td>\n",
              "      <td>33.9659</td>\n",
              "      <td>-80.9355</td>\n",
              "      <td>333497</td>\n",
              "      <td>Mechanical engineer</td>\n",
              "      <td>19/03/1968</td>\n",
              "      <td>2da90c7d74bd46a0caf3777415b3ebd3</td>\n",
              "      <td>1371816865</td>\n",
              "      <td>33.986391</td>\n",
              "      <td>-81.200714</td>\n",
              "      <td>0</td>\n",
              "    </tr>\n",
              "    <tr>\n",
              "      <th>1</th>\n",
              "      <td>1</td>\n",
              "      <td>21/06/2020 12:14</td>\n",
              "      <td>3.573030e+15</td>\n",
              "      <td>fraud_Sporer-Keebler</td>\n",
              "      <td>personal_care</td>\n",
              "      <td>29.84</td>\n",
              "      <td>Joanne</td>\n",
              "      <td>Williams</td>\n",
              "      <td>F</td>\n",
              "      <td>3638 Marsh Union</td>\n",
              "      <td>...</td>\n",
              "      <td>40.3207</td>\n",
              "      <td>-110.4360</td>\n",
              "      <td>302</td>\n",
              "      <td>Sales professional, IT</td>\n",
              "      <td>17/01/1990</td>\n",
              "      <td>324cc204407e99f51b0d6ca0055005e7</td>\n",
              "      <td>1371816873</td>\n",
              "      <td>39.450498</td>\n",
              "      <td>-109.960431</td>\n",
              "      <td>0</td>\n",
              "    </tr>\n",
              "    <tr>\n",
              "      <th>2</th>\n",
              "      <td>2</td>\n",
              "      <td>21/06/2020 12:14</td>\n",
              "      <td>3.598220e+15</td>\n",
              "      <td>fraud_Swaniawski, Nitzsche and Welch</td>\n",
              "      <td>health_fitness</td>\n",
              "      <td>41.28</td>\n",
              "      <td>Ashley</td>\n",
              "      <td>Lopez</td>\n",
              "      <td>F</td>\n",
              "      <td>9333 Valentine Point</td>\n",
              "      <td>...</td>\n",
              "      <td>40.6729</td>\n",
              "      <td>-73.5365</td>\n",
              "      <td>34496</td>\n",
              "      <td>Librarian, public</td>\n",
              "      <td>21/10/1970</td>\n",
              "      <td>c81755dbbbea9d5c77f094348a7579be</td>\n",
              "      <td>1371816893</td>\n",
              "      <td>40.495810</td>\n",
              "      <td>-74.196111</td>\n",
              "      <td>0</td>\n",
              "    </tr>\n",
              "    <tr>\n",
              "      <th>3</th>\n",
              "      <td>3</td>\n",
              "      <td>21/06/2020 12:15</td>\n",
              "      <td>3.591920e+15</td>\n",
              "      <td>fraud_Haley Group</td>\n",
              "      <td>misc_pos</td>\n",
              "      <td>60.05</td>\n",
              "      <td>Brian</td>\n",
              "      <td>Williams</td>\n",
              "      <td>M</td>\n",
              "      <td>32941 Krystal Mill Apt. 552</td>\n",
              "      <td>...</td>\n",
              "      <td>28.5697</td>\n",
              "      <td>-80.8191</td>\n",
              "      <td>54767</td>\n",
              "      <td>Set designer</td>\n",
              "      <td>25/07/1987</td>\n",
              "      <td>2159175b9efe66dc301f149d3d5abf8c</td>\n",
              "      <td>1371816915</td>\n",
              "      <td>28.812398</td>\n",
              "      <td>-80.883061</td>\n",
              "      <td>0</td>\n",
              "    </tr>\n",
              "    <tr>\n",
              "      <th>4</th>\n",
              "      <td>4</td>\n",
              "      <td>21/06/2020 12:15</td>\n",
              "      <td>3.526830e+15</td>\n",
              "      <td>fraud_Johnston-Casper</td>\n",
              "      <td>travel</td>\n",
              "      <td>3.19</td>\n",
              "      <td>Nathan</td>\n",
              "      <td>Massey</td>\n",
              "      <td>M</td>\n",
              "      <td>5783 Evan Roads Apt. 465</td>\n",
              "      <td>...</td>\n",
              "      <td>44.2529</td>\n",
              "      <td>-85.0170</td>\n",
              "      <td>1126</td>\n",
              "      <td>Furniture designer</td>\n",
              "      <td>06/07/1955</td>\n",
              "      <td>57ff021bd3f328f8738bb535c302a31b</td>\n",
              "      <td>1371816917</td>\n",
              "      <td>44.959148</td>\n",
              "      <td>-85.884734</td>\n",
              "      <td>0</td>\n",
              "    </tr>\n",
              "  </tbody>\n",
              "</table>\n",
              "<p>5 rows × 23 columns</p>\n",
              "</div>"
            ],
            "text/plain": [
              "   Unnamed: 0 trans_date_trans_time        cc_num  \\\n",
              "0           0      21/06/2020 12:14  2.291160e+15   \n",
              "1           1      21/06/2020 12:14  3.573030e+15   \n",
              "2           2      21/06/2020 12:14  3.598220e+15   \n",
              "3           3      21/06/2020 12:15  3.591920e+15   \n",
              "4           4      21/06/2020 12:15  3.526830e+15   \n",
              "\n",
              "                               merchant        category    amt   first  \\\n",
              "0                 fraud_Kirlin and Sons   personal_care   2.86    Jeff   \n",
              "1                  fraud_Sporer-Keebler   personal_care  29.84  Joanne   \n",
              "2  fraud_Swaniawski, Nitzsche and Welch  health_fitness  41.28  Ashley   \n",
              "3                     fraud_Haley Group        misc_pos  60.05   Brian   \n",
              "4                 fraud_Johnston-Casper          travel   3.19  Nathan   \n",
              "\n",
              "       last gender                       street  ...      lat      long  \\\n",
              "0   Elliott      M            351 Darlene Green  ...  33.9659  -80.9355   \n",
              "1  Williams      F             3638 Marsh Union  ...  40.3207 -110.4360   \n",
              "2     Lopez      F         9333 Valentine Point  ...  40.6729  -73.5365   \n",
              "3  Williams      M  32941 Krystal Mill Apt. 552  ...  28.5697  -80.8191   \n",
              "4    Massey      M     5783 Evan Roads Apt. 465  ...  44.2529  -85.0170   \n",
              "\n",
              "   city_pop                     job         dob  \\\n",
              "0    333497     Mechanical engineer  19/03/1968   \n",
              "1       302  Sales professional, IT  17/01/1990   \n",
              "2     34496       Librarian, public  21/10/1970   \n",
              "3     54767            Set designer  25/07/1987   \n",
              "4      1126      Furniture designer  06/07/1955   \n",
              "\n",
              "                          trans_num   unix_time  merch_lat  merch_long  \\\n",
              "0  2da90c7d74bd46a0caf3777415b3ebd3  1371816865  33.986391  -81.200714   \n",
              "1  324cc204407e99f51b0d6ca0055005e7  1371816873  39.450498 -109.960431   \n",
              "2  c81755dbbbea9d5c77f094348a7579be  1371816893  40.495810  -74.196111   \n",
              "3  2159175b9efe66dc301f149d3d5abf8c  1371816915  28.812398  -80.883061   \n",
              "4  57ff021bd3f328f8738bb535c302a31b  1371816917  44.959148  -85.884734   \n",
              "\n",
              "   is_fraud  \n",
              "0         0  \n",
              "1         0  \n",
              "2         0  \n",
              "3         0  \n",
              "4         0  \n",
              "\n",
              "[5 rows x 23 columns]"
            ]
          },
          "execution_count": 79,
          "metadata": {},
          "output_type": "execute_result"
        }
      ],
      "source": [
        "credit_card_fraud.head()"
      ]
    },
    {
      "cell_type": "code",
      "execution_count": null,
      "id": "bdf4af4c-215d-4739-9ce5-9a9f056129bb",
      "metadata": {
        "id": "bdf4af4c-215d-4739-9ce5-9a9f056129bb",
        "outputId": "b5b350d2-94f4-4720-fc5e-f118241b999c"
      },
      "outputs": [
        {
          "data": {
            "text/plain": [
              "(555719, 23)"
            ]
          },
          "execution_count": 80,
          "metadata": {},
          "output_type": "execute_result"
        }
      ],
      "source": [
        "# Vemos cuantas filas y columnas tiene\n",
        "credit_card_fraud.shape"
      ]
    },
    {
      "cell_type": "code",
      "execution_count": null,
      "id": "5acae326-70d9-41d8-8f61-f21d020db575",
      "metadata": {
        "id": "5acae326-70d9-41d8-8f61-f21d020db575",
        "outputId": "a3b96846-d2f2-4acb-c871-5fcae40a03a4"
      },
      "outputs": [
        {
          "data": {
            "text/plain": [
              "Index(['Unnamed: 0', 'trans_date_trans_time', 'cc_num', 'merchant', 'category',\n",
              "       'amt', 'first', 'last', 'gender', 'street', 'city', 'state', 'zip',\n",
              "       'lat', 'long', 'city_pop', 'job', 'dob', 'trans_num', 'unix_time',\n",
              "       'merch_lat', 'merch_long', 'is_fraud'],\n",
              "      dtype='object')"
            ]
          },
          "execution_count": 81,
          "metadata": {},
          "output_type": "execute_result"
        }
      ],
      "source": [
        "# Mostramos el nombre y tipo de datos\n",
        "credit_card_fraud.columns"
      ]
    },
    {
      "cell_type": "code",
      "execution_count": null,
      "id": "7e3c2279-c0cd-47a2-aded-98436aa7540a",
      "metadata": {
        "id": "7e3c2279-c0cd-47a2-aded-98436aa7540a",
        "outputId": "99f124f9-953f-4404-feab-6ce68df844b9"
      },
      "outputs": [
        {
          "data": {
            "text/plain": [
              "Unnamed: 0                 int64\n",
              "trans_date_trans_time     object\n",
              "cc_num                   float64\n",
              "merchant                  object\n",
              "category                  object\n",
              "amt                      float64\n",
              "first                     object\n",
              "last                      object\n",
              "gender                    object\n",
              "street                    object\n",
              "city                      object\n",
              "state                     object\n",
              "zip                        int64\n",
              "lat                      float64\n",
              "long                     float64\n",
              "city_pop                   int64\n",
              "job                       object\n",
              "dob                       object\n",
              "trans_num                 object\n",
              "unix_time                  int64\n",
              "merch_lat                float64\n",
              "merch_long               float64\n",
              "is_fraud                   int64\n",
              "dtype: object"
            ]
          },
          "execution_count": 82,
          "metadata": {},
          "output_type": "execute_result"
        }
      ],
      "source": [
        "credit_card_fraud.dtypes"
      ]
    },
    {
      "cell_type": "code",
      "execution_count": null,
      "id": "ee24d2c5-9dce-4c5c-b7d9-7f8906b636ee",
      "metadata": {
        "id": "ee24d2c5-9dce-4c5c-b7d9-7f8906b636ee",
        "outputId": "81b13a6f-bc40-4e96-e026-06767bbf9a86"
      },
      "outputs": [
        {
          "data": {
            "text/plain": [
              "Unnamed: 0               0\n",
              "trans_date_trans_time    0\n",
              "cc_num                   0\n",
              "merchant                 0\n",
              "category                 0\n",
              "amt                      0\n",
              "first                    0\n",
              "last                     0\n",
              "gender                   0\n",
              "street                   0\n",
              "city                     0\n",
              "state                    0\n",
              "zip                      0\n",
              "lat                      0\n",
              "long                     0\n",
              "city_pop                 0\n",
              "job                      0\n",
              "dob                      0\n",
              "trans_num                0\n",
              "unix_time                0\n",
              "merch_lat                0\n",
              "merch_long               0\n",
              "is_fraud                 0\n",
              "dtype: int64"
            ]
          },
          "execution_count": 83,
          "metadata": {},
          "output_type": "execute_result"
        }
      ],
      "source": [
        "# Mostramos si hay valores faltantes\n",
        "credit_card_fraud.isna().sum()"
      ]
    },
    {
      "cell_type": "code",
      "execution_count": null,
      "id": "6aeb009f-befd-47cf-a570-33855ab23bb1",
      "metadata": {
        "id": "6aeb009f-befd-47cf-a570-33855ab23bb1",
        "outputId": "bf1f50d4-2716-47b0-a766-adcda6bf0359"
      },
      "outputs": [
        {
          "data": {
            "text/html": [
              "<div>\n",
              "<style scoped>\n",
              "    .dataframe tbody tr th:only-of-type {\n",
              "        vertical-align: middle;\n",
              "    }\n",
              "\n",
              "    .dataframe tbody tr th {\n",
              "        vertical-align: top;\n",
              "    }\n",
              "\n",
              "    .dataframe thead th {\n",
              "        text-align: right;\n",
              "    }\n",
              "</style>\n",
              "<table border=\"1\" class=\"dataframe\">\n",
              "  <thead>\n",
              "    <tr style=\"text-align: right;\">\n",
              "      <th></th>\n",
              "      <th>Unnamed: 0</th>\n",
              "      <th>cc_num</th>\n",
              "      <th>amt</th>\n",
              "      <th>zip</th>\n",
              "      <th>lat</th>\n",
              "      <th>long</th>\n",
              "      <th>city_pop</th>\n",
              "      <th>unix_time</th>\n",
              "      <th>merch_lat</th>\n",
              "      <th>merch_long</th>\n",
              "      <th>is_fraud</th>\n",
              "    </tr>\n",
              "  </thead>\n",
              "  <tbody>\n",
              "    <tr>\n",
              "      <th>count</th>\n",
              "      <td>555719.000000</td>\n",
              "      <td>5.557190e+05</td>\n",
              "      <td>555719.000000</td>\n",
              "      <td>555719.000000</td>\n",
              "      <td>555719.000000</td>\n",
              "      <td>555719.000000</td>\n",
              "      <td>5.557190e+05</td>\n",
              "      <td>5.557190e+05</td>\n",
              "      <td>555719.000000</td>\n",
              "      <td>555719.000000</td>\n",
              "      <td>555719.000000</td>\n",
              "    </tr>\n",
              "    <tr>\n",
              "      <th>mean</th>\n",
              "      <td>277859.000000</td>\n",
              "      <td>4.178387e+17</td>\n",
              "      <td>69.392810</td>\n",
              "      <td>48842.628015</td>\n",
              "      <td>38.543253</td>\n",
              "      <td>-90.231325</td>\n",
              "      <td>8.822189e+04</td>\n",
              "      <td>1.380679e+09</td>\n",
              "      <td>38.542798</td>\n",
              "      <td>-90.231380</td>\n",
              "      <td>0.003860</td>\n",
              "    </tr>\n",
              "    <tr>\n",
              "      <th>std</th>\n",
              "      <td>160422.401459</td>\n",
              "      <td>1.309837e+18</td>\n",
              "      <td>156.745941</td>\n",
              "      <td>26855.283328</td>\n",
              "      <td>5.061336</td>\n",
              "      <td>13.721780</td>\n",
              "      <td>3.003909e+05</td>\n",
              "      <td>5.201104e+06</td>\n",
              "      <td>5.095829</td>\n",
              "      <td>13.733071</td>\n",
              "      <td>0.062008</td>\n",
              "    </tr>\n",
              "    <tr>\n",
              "      <th>min</th>\n",
              "      <td>0.000000</td>\n",
              "      <td>6.041621e+10</td>\n",
              "      <td>1.000000</td>\n",
              "      <td>1257.000000</td>\n",
              "      <td>20.027100</td>\n",
              "      <td>-165.672300</td>\n",
              "      <td>2.300000e+01</td>\n",
              "      <td>1.371817e+09</td>\n",
              "      <td>19.027422</td>\n",
              "      <td>-166.671575</td>\n",
              "      <td>0.000000</td>\n",
              "    </tr>\n",
              "    <tr>\n",
              "      <th>25%</th>\n",
              "      <td>138929.500000</td>\n",
              "      <td>1.800430e+14</td>\n",
              "      <td>9.630000</td>\n",
              "      <td>26292.000000</td>\n",
              "      <td>34.668900</td>\n",
              "      <td>-96.798000</td>\n",
              "      <td>7.410000e+02</td>\n",
              "      <td>1.376029e+09</td>\n",
              "      <td>34.755302</td>\n",
              "      <td>-96.905129</td>\n",
              "      <td>0.000000</td>\n",
              "    </tr>\n",
              "    <tr>\n",
              "      <th>50%</th>\n",
              "      <td>277859.000000</td>\n",
              "      <td>3.521420e+15</td>\n",
              "      <td>47.290000</td>\n",
              "      <td>48174.000000</td>\n",
              "      <td>39.371600</td>\n",
              "      <td>-87.476900</td>\n",
              "      <td>2.408000e+03</td>\n",
              "      <td>1.380762e+09</td>\n",
              "      <td>39.376593</td>\n",
              "      <td>-87.445204</td>\n",
              "      <td>0.000000</td>\n",
              "    </tr>\n",
              "    <tr>\n",
              "      <th>75%</th>\n",
              "      <td>416788.500000</td>\n",
              "      <td>4.635330e+15</td>\n",
              "      <td>83.010000</td>\n",
              "      <td>72011.000000</td>\n",
              "      <td>41.894800</td>\n",
              "      <td>-80.175200</td>\n",
              "      <td>1.968500e+04</td>\n",
              "      <td>1.385867e+09</td>\n",
              "      <td>41.954163</td>\n",
              "      <td>-80.264637</td>\n",
              "      <td>0.000000</td>\n",
              "    </tr>\n",
              "    <tr>\n",
              "      <th>max</th>\n",
              "      <td>555718.000000</td>\n",
              "      <td>4.992350e+18</td>\n",
              "      <td>22768.110000</td>\n",
              "      <td>99921.000000</td>\n",
              "      <td>65.689900</td>\n",
              "      <td>-67.950300</td>\n",
              "      <td>2.906700e+06</td>\n",
              "      <td>1.388534e+09</td>\n",
              "      <td>66.679297</td>\n",
              "      <td>-66.952026</td>\n",
              "      <td>1.000000</td>\n",
              "    </tr>\n",
              "  </tbody>\n",
              "</table>\n",
              "</div>"
            ],
            "text/plain": [
              "          Unnamed: 0        cc_num            amt            zip  \\\n",
              "count  555719.000000  5.557190e+05  555719.000000  555719.000000   \n",
              "mean   277859.000000  4.178387e+17      69.392810   48842.628015   \n",
              "std    160422.401459  1.309837e+18     156.745941   26855.283328   \n",
              "min         0.000000  6.041621e+10       1.000000    1257.000000   \n",
              "25%    138929.500000  1.800430e+14       9.630000   26292.000000   \n",
              "50%    277859.000000  3.521420e+15      47.290000   48174.000000   \n",
              "75%    416788.500000  4.635330e+15      83.010000   72011.000000   \n",
              "max    555718.000000  4.992350e+18   22768.110000   99921.000000   \n",
              "\n",
              "                 lat           long      city_pop     unix_time  \\\n",
              "count  555719.000000  555719.000000  5.557190e+05  5.557190e+05   \n",
              "mean       38.543253     -90.231325  8.822189e+04  1.380679e+09   \n",
              "std         5.061336      13.721780  3.003909e+05  5.201104e+06   \n",
              "min        20.027100    -165.672300  2.300000e+01  1.371817e+09   \n",
              "25%        34.668900     -96.798000  7.410000e+02  1.376029e+09   \n",
              "50%        39.371600     -87.476900  2.408000e+03  1.380762e+09   \n",
              "75%        41.894800     -80.175200  1.968500e+04  1.385867e+09   \n",
              "max        65.689900     -67.950300  2.906700e+06  1.388534e+09   \n",
              "\n",
              "           merch_lat     merch_long       is_fraud  \n",
              "count  555719.000000  555719.000000  555719.000000  \n",
              "mean       38.542798     -90.231380       0.003860  \n",
              "std         5.095829      13.733071       0.062008  \n",
              "min        19.027422    -166.671575       0.000000  \n",
              "25%        34.755302     -96.905129       0.000000  \n",
              "50%        39.376593     -87.445204       0.000000  \n",
              "75%        41.954163     -80.264637       0.000000  \n",
              "max        66.679297     -66.952026       1.000000  "
            ]
          },
          "execution_count": 84,
          "metadata": {},
          "output_type": "execute_result"
        }
      ],
      "source": [
        "# Mostramos los detalles estadisticos\n",
        "credit_card_fraud.describe()"
      ]
    },
    {
      "cell_type": "code",
      "execution_count": null,
      "id": "85c14e79-26bb-4721-9661-9336ed853562",
      "metadata": {
        "id": "85c14e79-26bb-4721-9661-9336ed853562",
        "outputId": "291c9066-ec1b-4429-9837-a0de13b29be5"
      },
      "outputs": [
        {
          "data": {
            "text/plain": [
              "trans_date_trans_time\n",
              "15/12/2020 21:26    16\n",
              "01/12/2020 19:01    16\n",
              "01/12/2020 23:34    15\n",
              "22/12/2020 13:59    15\n",
              "01/12/2020 15:55    15\n",
              "                    ..\n",
              "12/11/2020 07:58     1\n",
              "12/11/2020 07:54     1\n",
              "12/11/2020 07:53     1\n",
              "12/11/2020 07:51     1\n",
              "22/08/2020 04:11     1\n",
              "Name: count, Length: 226976, dtype: int64"
            ]
          },
          "execution_count": 85,
          "metadata": {},
          "output_type": "execute_result"
        }
      ],
      "source": [
        "credit_card_fraud['trans_date_trans_time'].value_counts()"
      ]
    },
    {
      "cell_type": "code",
      "execution_count": null,
      "id": "9d214b62-c2e4-4d20-8438-947b42506387",
      "metadata": {
        "id": "9d214b62-c2e4-4d20-8438-947b42506387",
        "outputId": "745ba261-3392-4783-8ecd-902960f1c28c"
      },
      "outputs": [
        {
          "data": {
            "text/plain": [
              "category\n",
              "gas_transport     56370\n",
              "grocery_pos       52553\n",
              "home              52345\n",
              "shopping_pos      49791\n",
              "kids_pets         48692\n",
              "shopping_net      41779\n",
              "entertainment     40104\n",
              "personal_care     39327\n",
              "food_dining       39268\n",
              "health_fitness    36674\n",
              "misc_pos          34574\n",
              "misc_net          27367\n",
              "grocery_net       19426\n",
              "travel            17449\n",
              "Name: count, dtype: int64"
            ]
          },
          "execution_count": 86,
          "metadata": {},
          "output_type": "execute_result"
        }
      ],
      "source": [
        "credit_card_fraud['category'].value_counts()"
      ]
    },
    {
      "cell_type": "code",
      "execution_count": null,
      "id": "458902e1-559f-4c90-acc3-b01c68a4378c",
      "metadata": {
        "id": "458902e1-559f-4c90-acc3-b01c68a4378c",
        "outputId": "4bb5a578-101a-46ec-ec57-40f28570e9b7"
      },
      "outputs": [
        {
          "data": {
            "text/plain": [
              "gender\n",
              "F    304886\n",
              "M    250833\n",
              "Name: count, dtype: int64"
            ]
          },
          "execution_count": 88,
          "metadata": {},
          "output_type": "execute_result"
        }
      ],
      "source": [
        "credit_card_fraud['gender'].value_counts()"
      ]
    },
    {
      "cell_type": "code",
      "execution_count": null,
      "id": "00a91a66-0b31-44f9-8e51-16751bbe5280",
      "metadata": {
        "id": "00a91a66-0b31-44f9-8e51-16751bbe5280",
        "outputId": "640534c3-8061-4529-983d-d6b5d9813840"
      },
      "outputs": [
        {
          "data": {
            "text/plain": [
              "city_pop\n",
              "606        2553\n",
              "1312922    2222\n",
              "1595797    2182\n",
              "241        2045\n",
              "1766       1982\n",
              "           ... \n",
              "14462        10\n",
              "837792        9\n",
              "20226         9\n",
              "6263          8\n",
              "1071          6\n",
              "Name: count, Length: 835, dtype: int64"
            ]
          },
          "execution_count": 89,
          "metadata": {},
          "output_type": "execute_result"
        }
      ],
      "source": [
        "credit_card_fraud['city_pop'].value_counts()"
      ]
    },
    {
      "cell_type": "code",
      "execution_count": null,
      "id": "3de696f4-78b9-400a-8ea6-9d70e377937e",
      "metadata": {
        "id": "3de696f4-78b9-400a-8ea6-9d70e377937e",
        "outputId": "39e17c72-6b4c-4e71-8e06-4855b16d1a69"
      },
      "outputs": [
        {
          "data": {
            "text/plain": [
              "job\n",
              "Film/video editor                4119\n",
              "Exhibition designer              3968\n",
              "Surveyor, land/geomatics         3756\n",
              "Naval architect                  3750\n",
              "Designer, ceramics/pottery       3463\n",
              "                                 ... \n",
              "Estate manager/land agent         195\n",
              "Engineer, civil (consulting)      194\n",
              "Operational investment banker      11\n",
              "Software engineer                  11\n",
              "Engineer, water                     8\n",
              "Name: count, Length: 478, dtype: int64"
            ]
          },
          "execution_count": 90,
          "metadata": {},
          "output_type": "execute_result"
        }
      ],
      "source": [
        "credit_card_fraud['job'].value_counts()"
      ]
    },
    {
      "cell_type": "code",
      "execution_count": null,
      "id": "f3ee5165-ff15-4147-b755-d29e7210e389",
      "metadata": {
        "id": "f3ee5165-ff15-4147-b755-d29e7210e389",
        "outputId": "efbf1ae1-8be8-40d1-b2bf-54cf350fcec9"
      },
      "outputs": [
        {
          "data": {
            "text/plain": [
              "state\n",
              "TX    40393\n",
              "NY    35918\n",
              "PA    34326\n",
              "CA    24135\n",
              "OH    20147\n",
              "MI    19671\n",
              "IL    18960\n",
              "FL    18104\n",
              "AL    17532\n",
              "MO    16501\n",
              "MN    13719\n",
              "AR    13484\n",
              "NC    12868\n",
              "SC    12541\n",
              "KY    12506\n",
              "VA    12506\n",
              "WI    12370\n",
              "IN    11959\n",
              "IA    11819\n",
              "OK    11379\n",
              "GA    11277\n",
              "MD    11152\n",
              "WV    10838\n",
              "NJ    10528\n",
              "NE    10257\n",
              "KS     9943\n",
              "LA     8988\n",
              "MS     8833\n",
              "WY     8454\n",
              "WA     8116\n",
              "OR     7811\n",
              "TN     7359\n",
              "NM     7020\n",
              "ME     6928\n",
              "ND     6397\n",
              "CO     5886\n",
              "SD     5250\n",
              "MA     5186\n",
              "MT     5052\n",
              "VT     5044\n",
              "UT     4658\n",
              "AZ     4592\n",
              "NH     3449\n",
              "CT     3277\n",
              "ID     2490\n",
              "NV     2451\n",
              "DC     1517\n",
              "HI     1090\n",
              "AK      843\n",
              "RI      195\n",
              "Name: count, dtype: int64"
            ]
          },
          "execution_count": 91,
          "metadata": {},
          "output_type": "execute_result"
        }
      ],
      "source": [
        "credit_card_fraud['state'].value_counts()"
      ]
    },
    {
      "cell_type": "code",
      "execution_count": null,
      "id": "8ae2340d-00c6-4e0f-8c00-5437203b85b0",
      "metadata": {
        "id": "8ae2340d-00c6-4e0f-8c00-5437203b85b0",
        "outputId": "0f397cef-df43-4fa6-8cbf-17387f43827b"
      },
      "outputs": [
        {
          "data": {
            "text/plain": [
              "<bound method Series.count of 0         0\n",
              "1         0\n",
              "2         0\n",
              "3         0\n",
              "4         0\n",
              "         ..\n",
              "555714    0\n",
              "555715    0\n",
              "555716    0\n",
              "555717    0\n",
              "555718    0\n",
              "Name: is_fraud, Length: 555719, dtype: int64>"
            ]
          },
          "execution_count": 92,
          "metadata": {},
          "output_type": "execute_result"
        }
      ],
      "source": [
        "# Vemos el número total de los valores de la columna \"Fraud Flag or Label\"\n",
        "credit_card_fraud['is_fraud'].count"
      ]
    },
    {
      "cell_type": "code",
      "execution_count": null,
      "id": "51fb48ef-cc5b-4925-b8da-699b54ddd277",
      "metadata": {
        "id": "51fb48ef-cc5b-4925-b8da-699b54ddd277"
      },
      "outputs": [],
      "source": [
        "# Eliminamos las columnas que no vamos a usar\n",
        "credit_card_fraud.drop(columns=['Unnamed: 0','trans_num','cc_num','merchant','first','last','street','zip','unix_time'],axis=1,inplace=True)"
      ]
    },
    {
      "cell_type": "code",
      "execution_count": null,
      "id": "d835575c-06b4-4da3-8fee-36b45eff455f",
      "metadata": {
        "id": "d835575c-06b4-4da3-8fee-36b45eff455f",
        "outputId": "c7b300a1-60c4-476e-98fb-eb69841f124e"
      },
      "outputs": [
        {
          "name": "stdout",
          "output_type": "stream",
          "text": [
            "<class 'pandas.core.frame.DataFrame'>\n",
            "RangeIndex: 555719 entries, 0 to 555718\n",
            "Data columns (total 14 columns):\n",
            " #   Column                 Non-Null Count   Dtype  \n",
            "---  ------                 --------------   -----  \n",
            " 0   trans_date_trans_time  555719 non-null  object \n",
            " 1   category               555719 non-null  object \n",
            " 2   amt                    555719 non-null  float64\n",
            " 3   gender                 555719 non-null  object \n",
            " 4   city                   555719 non-null  object \n",
            " 5   state                  555719 non-null  object \n",
            " 6   lat                    555719 non-null  float64\n",
            " 7   long                   555719 non-null  float64\n",
            " 8   city_pop               555719 non-null  int64  \n",
            " 9   job                    555719 non-null  object \n",
            " 10  dob                    555719 non-null  object \n",
            " 11  merch_lat              555719 non-null  float64\n",
            " 12  merch_long             555719 non-null  float64\n",
            " 13  is_fraud               555719 non-null  int64  \n",
            "dtypes: float64(5), int64(2), object(7)\n",
            "memory usage: 59.4+ MB\n"
          ]
        }
      ],
      "source": [
        "# Mostramos el resultado\n",
        "credit_card_fraud.info()"
      ]
    },
    {
      "cell_type": "code",
      "execution_count": null,
      "id": "d5220298-766b-4895-9698-88fecaf84dec",
      "metadata": {
        "id": "d5220298-766b-4895-9698-88fecaf84dec",
        "outputId": "d7052ee3-9403-47ec-cca6-73da62c30569"
      },
      "outputs": [
        {
          "data": {
            "text/plain": [
              "Text(0.5, 1.0, 'Distribución del Fraude')"
            ]
          },
          "execution_count": 72,
          "metadata": {},
          "output_type": "execute_result"
        },
        {
          "data": {
            "image/png": "[encoded data removed]",
            "text/plain": [
              "<Figure size 600x600 with 1 Axes>"
            ]
          },
          "metadata": {},
          "output_type": "display_data"
        }
      ],
      "source": [
        "# Creamos un gráfico pastel que demuestra una distribución entre las transacciones fraudulentas(1) y no fraudulentas(0)\n",
        "plt.figure(figsize=(6, 6))\n",
        "credit_card_fraud['is_fraud'].value_counts().plot.pie(autopct = '1%.1f%%',colors = ['green', 'red'], startangle=90)\n",
        "plt.title('Distribución del Fraude')"
      ]
    },
    {
      "cell_type": "code",
      "execution_count": null,
      "id": "fee5d3e2-5724-422c-be2c-03045a367348",
      "metadata": {
        "id": "fee5d3e2-5724-422c-be2c-03045a367348"
      },
      "outputs": [],
      "source": []
    }
  ],
  "metadata": {
    "kernelspec": {
      "display_name": "Python 3 (ipykernel)",
      "language": "python",
      "name": "python3"
    },
    "language_info": {
      "codemirror_mode": {
        "name": "ipython",
        "version": 3
      },
      "file_extension": ".py",
      "mimetype": "text/x-python",
      "name": "python",
      "nbconvert_exporter": "python",
      "pygments_lexer": "ipython3",
      "version": "3.11.7"
    },
    "colab": {
      "provenance": []
    }
  },
  "nbformat": 4,
  "nbformat_minor": 5
}