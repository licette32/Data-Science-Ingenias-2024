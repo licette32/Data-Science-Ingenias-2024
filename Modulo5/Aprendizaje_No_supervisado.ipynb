{
  "cells": [
    {
      "cell_type": "markdown",
      "metadata": {
        "id": "XgqGztFaCFzN"
      },
      "source": [
        "# Programa Ingenias+ Data Science"
      ]
    },
    {
      "cell_type": "markdown",
      "source": [
        "## Aprendizaje no supervisado:\n",
        "\n",
        "- Clase 27: Introducción\n",
        "\n",
        "Notebooks de clase:\n",
        "\n",
        "- Clase 28: https://drive.google.com/file/d/1jCHhAm5nIpL7HE-zx0zGnugj_QEYG4BP/view?usp=sharing - KMEANS\n",
        "\n",
        "- Clase 29: https://drive.google.com/file/d/1Cb0UHAmEXpdhrxy8bdxsNOlQ9kVbNzj8/view?usp=sharing - DBSCAN\n",
        "\n",
        "- Clase 30: https://drive.google.com/file/d/1WZeRfDDPTgQDCSrAeltM-qGgwMHxcdjx/view?usp=sharing - Anexo: Elbow y Silhouette\n",
        "\n",
        "- Clase 31: https://drive.google.com/file/d/1T5KxvzH13MJ1cUw_8IX9mInpC7T65e5N/view?usp=sharing - PCA\n",
        "\n",
        "- Clase 31: https://drive.google.com/file/d/1ndZVtMcYYHvoSYGPE252PJN_evoruXWG/view?usp=sharing - SVD\n"
      ],
      "metadata": {
        "id": "rhVP7YgRuH3R"
      }
    },
    {
      "cell_type": "markdown",
      "metadata": {
        "id": "SZYvntAwCFzP"
      },
      "source": [
        "## ✏️ Ejercitación: Aprendizaje No Supervisado"
      ]
    },
    {
      "cell_type": "markdown",
      "metadata": {
        "id": "SW-Zj8kqCFzQ"
      },
      "source": [
        "Esta notebook les permitiria ejercitar los conceptos de aprendizaje automatico no supervisado que hemos aprendimos.\n",
        "\n",
        "En este caso, vamos a trabajar con el dataset que usamos anteriormente relativos a [clientes de un centro comercial](https://www.kaggle.com/akram24/mall-customers) y que luego de procesar, guardamos oportunamente.\n",
        "\n",
        "El objetivo de este projecto es ajustar modelos de aprendizaje no supervisado. Luego, realicen la evaluación de los modelos y decidan porque elegirian uno sobre el otro."
      ]
    },
    {
      "cell_type": "markdown",
      "metadata": {
        "id": "nwbpL0bNCFzQ"
      },
      "source": [
        "### 🚀 👩🏽‍💻 Aprendizaje No Supervisado 📣"
      ]
    },
    {
      "cell_type": "markdown",
      "metadata": {
        "id": "R6gXBBLzCFzR"
      },
      "source": [
        "## Clustering: Kmeans 🧩"
      ]
    },
    {
      "cell_type": "markdown",
      "metadata": {
        "id": "tcxcfzaFCFzR"
      },
      "source": [
        "Si aún no lo hicieron, pueden realizar una exploración de los datos para poder visualizar la distribución de las variables y la correlación entre ellas.\n",
        "\n",
        "Esto es porque para poder aplicar K-means, los datos deben cumplir ciertos requerimientos:\n",
        "\n",
        "- **Forma de los clusters**: La varianza de la distribución es esferica. Lo que significa que los clusters tienen una forma esferica. Lo que significa que si las variables tienen varianzas similares y siguen una distribución normal, es más factible que este supuesto se cumpla.\n",
        "- **Tamaño de los clusters**: Todos los clusters deben tener el mismo numero (o muy similar) de observaciones\n",
        "- **Relación entre las variables**: Existe poca o ninguna correlación entre las variables."
      ]
    },
    {
      "cell_type": "markdown",
      "metadata": {
        "id": "hOuPR3EYCFzR"
      },
      "source": [
        "#### Crea tres modelos usando k=2, k=6, k=9"
      ]
    },
    {
      "cell_type": "markdown",
      "metadata": {
        "id": "RtV6yr1mCFzR"
      },
      "source": [
        "¿Crees que el resultado es satisfactorio?"
      ]
    },
    {
      "cell_type": "code",
      "execution_count": null,
      "metadata": {
        "id": "fzEebeSGCFzS"
      },
      "outputs": [],
      "source": []
    },
    {
      "cell_type": "code",
      "execution_count": null,
      "metadata": {
        "id": "E1AERkCrCFzS"
      },
      "outputs": [],
      "source": []
    },
    {
      "cell_type": "markdown",
      "metadata": {
        "id": "j0VF5At9CFzS"
      },
      "source": [
        "#### Metodos para elegir K\n",
        "\n",
        "Aplica los métodos que conoces y elige el k que mejor se ajusta a los datos."
      ]
    },
    {
      "cell_type": "code",
      "execution_count": null,
      "metadata": {
        "id": "01wAq87MCFzT"
      },
      "outputs": [],
      "source": []
    },
    {
      "cell_type": "code",
      "execution_count": null,
      "metadata": {
        "id": "krzqR-78CFzT"
      },
      "outputs": [],
      "source": []
    },
    {
      "cell_type": "markdown",
      "metadata": {
        "id": "-tW13VwiCFzT"
      },
      "source": [
        "#### Ajusta el modelo usando el K seleccionado"
      ]
    },
    {
      "cell_type": "code",
      "execution_count": null,
      "metadata": {
        "id": "cmBGLu_3CFzT"
      },
      "outputs": [],
      "source": []
    },
    {
      "cell_type": "code",
      "execution_count": null,
      "metadata": {
        "id": "jQv1ueUDCFzT"
      },
      "outputs": [],
      "source": []
    },
    {
      "cell_type": "markdown",
      "metadata": {
        "id": "iEgpD_VwCFzT"
      },
      "source": [
        "#### Gráfica el resultado"
      ]
    },
    {
      "cell_type": "code",
      "source": [],
      "metadata": {
        "id": "IYTT8uGkTIn5"
      },
      "execution_count": null,
      "outputs": []
    },
    {
      "cell_type": "code",
      "execution_count": null,
      "metadata": {
        "id": "Ddj6erTYCFzU"
      },
      "outputs": [],
      "source": []
    },
    {
      "cell_type": "code",
      "execution_count": null,
      "metadata": {
        "id": "dhNbD4zICFzU"
      },
      "outputs": [],
      "source": []
    },
    {
      "cell_type": "code",
      "execution_count": null,
      "metadata": {
        "id": "hAaFiMSECFzU"
      },
      "outputs": [],
      "source": []
    },
    {
      "cell_type": "markdown",
      "source": [
        "### Reducción de la dimensionalidad"
      ],
      "metadata": {
        "id": "DTZSldIBTJQP"
      }
    },
    {
      "cell_type": "markdown",
      "source": [
        "Prueba ahora reduciendo la dimensionalidad y ajustando K-means nuevamente."
      ],
      "metadata": {
        "id": "kW48OYj8TeHa"
      }
    },
    {
      "cell_type": "code",
      "source": [],
      "metadata": {
        "id": "PSV-kUxGTdmC"
      },
      "execution_count": null,
      "outputs": []
    },
    {
      "cell_type": "code",
      "source": [],
      "metadata": {
        "id": "qZ-BYOW3TNkB"
      },
      "execution_count": null,
      "outputs": []
    },
    {
      "cell_type": "code",
      "source": [],
      "metadata": {
        "id": "5v1sBmV8TNrT"
      },
      "execution_count": null,
      "outputs": []
    },
    {
      "cell_type": "code",
      "source": [],
      "metadata": {
        "id": "mzfyDHkRTNuu"
      },
      "execution_count": null,
      "outputs": []
    },
    {
      "cell_type": "markdown",
      "source": [
        "## Clustering: DBSCAN 🧩"
      ],
      "metadata": {
        "id": "KRXCSLFWTU3v"
      }
    },
    {
      "cell_type": "markdown",
      "source": [
        "¿Y si comparamos con ajustar un modelo de DBSCAN?"
      ],
      "metadata": {
        "id": "_T_duUk4Th4y"
      }
    },
    {
      "cell_type": "code",
      "source": [],
      "metadata": {
        "id": "Yi0J1hKsTn5a"
      },
      "execution_count": null,
      "outputs": []
    },
    {
      "cell_type": "code",
      "source": [],
      "metadata": {
        "id": "HqLMIdGxTn7f"
      },
      "execution_count": null,
      "outputs": []
    },
    {
      "cell_type": "code",
      "source": [],
      "metadata": {
        "id": "32HJz8NLTn-F"
      },
      "execution_count": null,
      "outputs": []
    },
    {
      "cell_type": "code",
      "source": [],
      "metadata": {
        "id": "Y4uYsWVpToA9"
      },
      "execution_count": null,
      "outputs": []
    },
    {
      "cell_type": "markdown",
      "source": [
        "¿Qué opinan? ¿Qué modelo arrojo mejores resultados de clustering?"
      ],
      "metadata": {
        "id": "Xna1YkXRTh9t"
      }
    }
  ],
  "metadata": {
    "kernelspec": {
      "display_name": "Python 3 (ipykernel)",
      "language": "python",
      "name": "python3"
    },
    "language_info": {
      "codemirror_mode": {
        "name": "ipython",
        "version": 3
      },
      "file_extension": ".py",
      "mimetype": "text/x-python",
      "name": "python",
      "nbconvert_exporter": "python",
      "pygments_lexer": "ipython3",
      "version": "3.9.6"
    },
    "colab": {
      "provenance": []
    }
  },
  "nbformat": 4,
  "nbformat_minor": 0
}